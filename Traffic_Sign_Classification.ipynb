{
  "nbformat": 4,
  "nbformat_minor": 0,
  "metadata": {
    "colab": {
      "name": "Traffic Sign Classification.ipynb",
      "provenance": [],
      "collapsed_sections": []
    },
    "kernelspec": {
      "name": "python3",
      "display_name": "Python 3"
    },
    "language_info": {
      "name": "python"
    },
    "accelerator": "GPU"
  },
  "cells": [
    {
      "cell_type": "code",
      "metadata": {
        "id": "jPM-6I6wb34L"
      },
      "source": [
        "!pip install tensorflow==2.4.0"
      ],
      "execution_count": null,
      "outputs": []
    },
    {
      "cell_type": "code",
      "metadata": {
        "id": "DNrrhvOWcEMp"
      },
      "source": [
        "import tensorflow as tf\n",
        "\n",
        "tf.__version__"
      ],
      "execution_count": null,
      "outputs": []
    },
    {
      "cell_type": "code",
      "metadata": {
        "id": "7SBMGKq2HTHb"
      },
      "source": [
        "import numpy as np\n",
        "import tensorflow as tf\n",
        "from tensorflow import keras\n",
        "from tensorflow.keras.layers import Dense, Conv2D, AvgPool2D, Activation, Flatten, MaxPool2D, Dropout\n",
        "\n",
        "\n",
        "\n",
        "class CNN_networks():\n",
        "    def __init__(self, shape):\n",
        "        super().__init__()\n",
        "        self.height, self.width, self.channel = shape\n",
        "\n",
        "\n",
        "    def LeNet(self):\n",
        "        model = keras.models.Sequential()\n",
        "\n",
        "        model.add(Conv2D(filters=6, kernel_size=5, strides=1,\n",
        "                         input_shape = [self.height, self.width, self.channel],\n",
        "                         padding = \"same\",\n",
        "                         activation='tanh'))\n",
        "        # shape = (32, 32, 6)\n",
        "        model.add(AvgPool2D(pool_size=2, strides = 2))\n",
        "        model.add(Activation('tanh'))\n",
        "        # shape = (16, 16, 6)\n",
        "\n",
        "        model.add(Conv2D(filters=16, kernel_size=5, strides=1,\n",
        "                         activation='tanh'))\n",
        "        # shape = (12, 12, 16)\n",
        "        model.add(AvgPool2D(pool_size=2, strides = 2))\n",
        "        model.add(Activation('tanh'))\n",
        "        # shape = (6, 6, 16)\n",
        "\n",
        "        model.add(Conv2D(filters=120, kernel_size = 5, \n",
        "                         strides=1, activation= 'tanh'))\n",
        "        # shape = (2, 2, 120)\n",
        "\n",
        "        # Flatten the input for fully connected layers\n",
        "        model.add(Flatten())\n",
        "\n",
        "        # fully connected layer\n",
        "        model.add(Dense(units = 84, activation='tanh'))\n",
        "\n",
        "        # output layer instead of RBF, I used softmax\n",
        "        model.add(Dense(units=43, activation='softmax'))\n",
        "\n",
        "        return model\n",
        "\n",
        "\n",
        "    def CustomNet(self):\n",
        "        model = keras.models.Sequential()\n",
        "\n",
        "        model.add(Conv2D(filters=32, kernel_size=7, strides=1,\n",
        "                         input_shape = (self.height, self.width, self.channel),\n",
        "                         padding = \"same\",\n",
        "                         activation='relu'))\n",
        "        # shape = (32, 32, 64)\n",
        "        model.add(Conv2D(filters=64, kernel_size=3, strides=1,\n",
        "                         padding = \"same\",\n",
        "                         activation='relu'))\n",
        "        # shape = (32, 32, 128)\n",
        "        model.add(MaxPool2D(pool_size=2, strides = 1))\n",
        "        # shape = (31, 31, 128)\n",
        "\n",
        "        # Flatten the input for fully connected layers\n",
        "        model.add(Flatten())\n",
        "\n",
        "        # fully connected layer 2\n",
        "        model.add(Dense(units=64, activation='relu'))\n",
        "        model.add(Dropout(0.05))\n",
        "\n",
        "        # output layer\n",
        "        model.add(Dense(units=43, activation='softmax'))\n",
        "\n",
        "        #compile\n",
        "        # opt = keras.optimizers.Adam(learning_rate=0.02)\n",
        "        model.compile(optimizer='adam', loss='categorical_crossentropy', metrics=['accuracy'])\n",
        "\n",
        "        return model\n",
        "\n",
        "\n",
        "    def GoogleNet(self):\n",
        "        pass\n",
        "\n",
        "# shape = (5, 32, 32, 3)\n",
        "# n = CNN_networks(shape[1:])\n",
        "# model = n.CustomNet()\n",
        "# x =  tf.random.normal(shape)\n",
        "# # x = np.random.uniform(shape)\n",
        "# y = np.array([4, 2, 3, 1, 0])\n",
        "# y = keras.utils.to_categorical(y, num_classes=43)\n",
        "# print(x.shape)\n",
        "# print(y.shape)"
      ],
      "execution_count": 35,
      "outputs": []
    },
    {
      "cell_type": "code",
      "metadata": {
        "id": "LAibWzS1FQBq"
      },
      "source": [
        "# https://www.kaggle.com/valentynsichkar/traffic-signs-classification-with-cnn/data?select=datasets_preparing.py\n",
        "\n",
        "import numpy as np\n",
        "import pandas as pd\n",
        "import pickle as pkl\n",
        "import matplotlib.pyplot as plt\n",
        "from sklearn.utils import shuffle\n",
        "from tensorflow import keras\n",
        "\n",
        "\n",
        "\n",
        "def load_data(file):\n",
        "    file_path = '/content/drive/MyDrive/traffic_sign/input/'+str(file)\n",
        "    with open(file_path, 'rb') as f:\n",
        "        d = pkl.load(f, encoding = 'latin1')\n",
        "        x = d['features'].astype(np.float32)\n",
        "        y = d['labels']\n",
        "        c = d['coords']\n",
        "        s = d['sizes']\n",
        "\n",
        "    return x, y, s, c\n",
        "\n",
        "\n",
        "def normalize_data(data):\n",
        "    data = data/255.0\n",
        "\n",
        "    return data\n",
        "\n",
        "\n",
        "def labelname_list(file):\n",
        "    file_path = '/content/drive/MyDrive/traffic_sign/input/'+str(file)\n",
        "    labels = pd.read_csv(file_path)\n",
        "    label_list = []\n",
        "    # print(len(labels))\n",
        "    for row in range(len(labels)):\n",
        "        label_list.append(labels['SignName'][row])\n",
        "    \n",
        "    return label_list\n",
        "\n",
        "# load training data\n",
        "x_train, y_train, s_train, c_train = load_data('train.pickle')\n",
        "\n",
        "# load validation data\n",
        "x_valid, y_valid, s_valid, c_valid = load_data('valid.pickle')\n",
        "\n",
        "# load test data\n",
        "x_test, y_test, s_test, c_test = load_data('test.pickle')\n",
        "\n",
        "# normailize features from train, valid, and test\n",
        "x_train, x_valid, x_test = map(normalize_data, [x_train, x_valid, x_test])\n",
        "\n",
        "# shuffle \n",
        "x_train, y_train = shuffle(x_train, y_train, random_state=0)\n",
        "x_valid, y_valid = shuffle(x_valid, y_valid, random_state=0)\n",
        "x_test, y_test = shuffle(x_test, y_test, random_state=0)\n",
        "\n",
        "# to categorical\n",
        "y_train = keras.utils.to_categorical(y_train, num_classes=43)\n",
        "y_valid = keras.utils.to_categorical(y_valid, num_classes=43)\n",
        "y_test = keras.utils.to_categorical(y_test, num_classes=43)\n",
        "\n",
        "# label name list\n",
        "label_list = labelname_list('label_names.csv')\n",
        "\n",
        "def show_image(x, y):\n",
        "    plt.figure()\n",
        "    plt.imshow(x)\n",
        "    plt.title(label_list[np.argmax(y)])\n",
        "    plt.show()\n",
        "\n",
        "def train():\n",
        "  epochs = 10\n",
        "\n",
        "  print(x_train.shape[1:])\n",
        "  net = CNN_networks(x_train.shape[1:])\n",
        "  model = net.CustomNet()\n",
        "  model.summary()\n",
        "  hist = model.fit(x_train, y_train, epochs = epochs,\n",
        "                   validation_data = (x_valid, y_valid),\n",
        "              verbose=1)\n",
        "\n",
        "  print('Epochs={0:d}, training accuracy={1:.5f}, validation accuracy={2:.5f}'.\\\n",
        "        format(epochs, max(hist.history['accuracy']), max(hist.history['val_accuracy'])))\n",
        "\n",
        "\n",
        "  model.save('/content/drive/MyDrive/traffic_sign/input/model3')\n",
        "\n",
        "\n",
        "# print('label_list:', len(label_list))\n",
        "# print(np.mean(x_train, axis=0).shape)\n",
        "# print('x_train, x_valid, x_test', type(x_train), x_valid.shape, x_test.shape)\n",
        "# print('y_train:', y_train[5])\n",
        "# print('s_train:', s_train.shape)\n",
        "# print('c_train:', c_train.shape)"
      ],
      "execution_count": 36,
      "outputs": []
    },
    {
      "cell_type": "code",
      "metadata": {
        "colab": {
          "base_uri": "https://localhost:8080/"
        },
        "id": "TkScrwfkdTbh",
        "outputId": "15d960c7-c5a3-46ba-a74f-3404b15ad66e"
      },
      "source": [
        "train()"
      ],
      "execution_count": 37,
      "outputs": [
        {
          "output_type": "stream",
          "name": "stdout",
          "text": [
            "(32, 32, 3)\n",
            "Model: \"sequential_7\"\n",
            "_________________________________________________________________\n",
            "Layer (type)                 Output Shape              Param #   \n",
            "=================================================================\n",
            "conv2d_22 (Conv2D)           (None, 32, 32, 32)        4736      \n",
            "_________________________________________________________________\n",
            "conv2d_23 (Conv2D)           (None, 32, 32, 64)        18496     \n",
            "_________________________________________________________________\n",
            "max_pooling2d_13 (MaxPooling (None, 31, 31, 64)        0         \n",
            "_________________________________________________________________\n",
            "flatten_7 (Flatten)          (None, 61504)             0         \n",
            "_________________________________________________________________\n",
            "dense_16 (Dense)             (None, 64)                3936320   \n",
            "_________________________________________________________________\n",
            "dropout_2 (Dropout)          (None, 64)                0         \n",
            "_________________________________________________________________\n",
            "dense_17 (Dense)             (None, 43)                2795      \n",
            "=================================================================\n",
            "Total params: 3,962,347\n",
            "Trainable params: 3,962,347\n",
            "Non-trainable params: 0\n",
            "_________________________________________________________________\n",
            "Epoch 1/10\n",
            "1088/1088 [==============================] - 17s 15ms/step - loss: 1.9859 - accuracy: 0.4879 - val_loss: 0.4403 - val_accuracy: 0.8741\n",
            "Epoch 2/10\n",
            "1088/1088 [==============================] - 16s 14ms/step - loss: 0.2362 - accuracy: 0.9323 - val_loss: 0.2885 - val_accuracy: 0.9147\n",
            "Epoch 3/10\n",
            "1088/1088 [==============================] - 16s 14ms/step - loss: 0.1251 - accuracy: 0.9626 - val_loss: 0.2828 - val_accuracy: 0.9286\n",
            "Epoch 4/10\n",
            "1088/1088 [==============================] - 16s 14ms/step - loss: 0.0847 - accuracy: 0.9748 - val_loss: 0.2780 - val_accuracy: 0.9288\n",
            "Epoch 5/10\n",
            "1088/1088 [==============================] - 16s 15ms/step - loss: 0.0579 - accuracy: 0.9823 - val_loss: 0.2322 - val_accuracy: 0.9401\n",
            "Epoch 6/10\n",
            "1088/1088 [==============================] - 16s 14ms/step - loss: 0.0531 - accuracy: 0.9836 - val_loss: 0.2037 - val_accuracy: 0.9492\n",
            "Epoch 7/10\n",
            "1088/1088 [==============================] - 16s 14ms/step - loss: 0.0389 - accuracy: 0.9894 - val_loss: 0.2798 - val_accuracy: 0.9311\n",
            "Epoch 8/10\n",
            "1088/1088 [==============================] - 16s 14ms/step - loss: 0.0383 - accuracy: 0.9876 - val_loss: 0.2055 - val_accuracy: 0.9501\n",
            "Epoch 9/10\n",
            "1088/1088 [==============================] - 16s 14ms/step - loss: 0.0293 - accuracy: 0.9912 - val_loss: 0.2540 - val_accuracy: 0.9392\n",
            "Epoch 10/10\n",
            "1088/1088 [==============================] - 16s 14ms/step - loss: 0.0339 - accuracy: 0.9898 - val_loss: 0.2188 - val_accuracy: 0.9583\n",
            "Epochs=10, training accuracy=0.99083, validation accuracy=0.95828\n",
            "INFO:tensorflow:Assets written to: /content/drive/MyDrive/traffic_sign/input/model3/assets\n"
          ]
        }
      ]
    },
    {
      "cell_type": "code",
      "metadata": {
        "colab": {
          "base_uri": "https://localhost:8080/"
        },
        "id": "L1WF8vgmFP8b",
        "outputId": "71df2005-1a00-4226-cf68-7c13e1489dec"
      },
      "source": [
        "new_model = tf.keras.models.load_model('/content/drive/MyDrive/traffic_sign/input/model3')\n",
        "res = new_model.predict(x_test[5:6, :, :, :])\n",
        "c = np.argmax(res)\n",
        "print(c)\n",
        "print(label_list[c])\n",
        "# new_model.summary()"
      ],
      "execution_count": 23,
      "outputs": [
        {
          "output_type": "stream",
          "name": "stdout",
          "text": [
            "38\n",
            "Keep right\n"
          ]
        }
      ]
    },
    {
      "cell_type": "code",
      "metadata": {
        "colab": {
          "base_uri": "https://localhost:8080/",
          "height": 281
        },
        "id": "teE3sEVvUALd",
        "outputId": "0ade4f21-0f27-4eff-c340-6fb07fed0089"
      },
      "source": [
        "show_image(x_test[5, :, :, :], y_test[5])"
      ],
      "execution_count": 24,
      "outputs": [
        {
          "output_type": "display_data",
          "data": {
            "image/png": "[encoded data removed]",
            "text/plain": [
              "<Figure size 432x288 with 1 Axes>"
            ]
          },
          "metadata": {
            "needs_background": "light"
          }
        }
      ]
    },
    {
      "cell_type": "code",
      "metadata": {
        "id": "DQLGWk3_FP50"
      },
      "source": [
        "loss, acc = new_model.evaluate(x_test, y_test, verbose=2)\n",
        "print('Restored model, accuracy: {:5.2f}%'.format(100 * acc))"
      ],
      "execution_count": null,
      "outputs": []
    },
    {
      "cell_type": "code",
      "metadata": {
        "id": "HGnqRnboFP3l"
      },
      "source": [
        "%matplotlib inline\n",
        "plt.rcParams['figure.figsize'] = (15.0, 5.0) # Setting default size of plots\n",
        "plt.rcParams['image.interpolation'] = 'nearest'\n",
        "\n",
        "fig = plt.figure()\n",
        "plt.plot(hist.history['accuracy'], '-o', linewidth=3.0)\n",
        "plt.plot(hist.history['val_accuracy'], '-o', linewidth=3.0)\n",
        "plt.title('Traffic Sign Classification', fontsize=22)\n",
        "plt.legend(['train', 'validation'], loc='lower right', fontsize='xx-large')\n",
        "plt.xlabel('Epoch', fontsize=15)\n",
        "plt.ylabel('Accuracy', fontsize=15)\n",
        "# plt.tick_params(labelsize=13)\n",
        "\n",
        "# Showing the plot\n",
        "plt.show()\n",
        "\n",
        "# Saving the plot\n",
        "fig.savefig('/content/drive/MyDrive/traffic_sign/figures/training_data.png')\n",
        "plt.close()"
      ],
      "execution_count": null,
      "outputs": []
    },
    {
      "cell_type": "code",
      "metadata": {
        "id": "NMwLYwcNFP1E"
      },
      "source": [
        ""
      ],
      "execution_count": null,
      "outputs": []
    }
  ]
}